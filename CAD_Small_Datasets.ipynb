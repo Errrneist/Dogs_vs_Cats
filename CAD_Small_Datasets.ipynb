{
 "cells": [
  {
   "cell_type": "markdown",
   "metadata": {},
   "source": [
    "# [Building Powerful Image Classification Models Using Very Little Data](http://blog.keras.io/building-powerful-image-classification-models-using-very-little-data.html)\n",
    "## [面向小数据集构建图像分类模型](https://keras-cn-docs.readthedocs.io/zh_CN/latest/blog/image_classification_using_very_little_data/)\n",
    "### Errrneist, 20181019."
   ]
  },
  {
   "cell_type": "markdown",
   "metadata": {},
   "source": [
    "#### In this notebook, I will experiment with the following:\n",
    "* Train a small network directly from image.\n",
    "* Use features from the bottleneck from the pre-trained models. (Not sure about the pre-trained)\n",
    "* Fine-Tune top layers of the pre-trained models.\n",
    "\n",
    "#### The Keras features that I will be using:\n",
    "* fit_generator for training Keras a model using Python data generators.\n",
    "* ImageDataGenerator for real time data augumentation.\n",
    "* Layer freezing and model fine-tuning."
   ]
  },
  {
   "cell_type": "code",
   "execution_count": null,
   "metadata": {},
   "outputs": [],
   "source": []
  }
 ],
 "metadata": {
  "kernelspec": {
   "display_name": "Python 3",
   "language": "python",
   "name": "python3"
  },
  "language_info": {
   "codemirror_mode": {
    "name": "ipython",
    "version": 3
   },
   "file_extension": ".py",
   "mimetype": "text/x-python",
   "name": "python",
   "nbconvert_exporter": "python",
   "pygments_lexer": "ipython3",
   "version": "3.6.5"
  }
 },
 "nbformat": 4,
 "nbformat_minor": 2
}
